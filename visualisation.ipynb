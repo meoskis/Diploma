{
 "cells": [
  {
   "cell_type": "code",
   "execution_count": 3,
   "id": "87ef8c81",
   "metadata": {},
   "outputs": [
    {
     "name": "stderr",
     "output_type": "stream",
     "text": [
      "DGL backend not selected or invalid.  Assuming PyTorch for now.\n"
     ]
    },
    {
     "name": "stdout",
     "output_type": "stream",
     "text": [
      "Setting the default backend to \"pytorch\". You can change it in the ~/.dgl/config.json file or export the DGLBACKEND environment variable.  Valid options are: pytorch, mxnet, tensorflow (all lowercase)\n",
      "Downloading C:\\Users\\nkmeo\\.dgl\\cora_v2.zip from https://data.dgl.ai/dataset/cora_v2.zip...\n"
     ]
    },
    {
     "name": "stderr",
     "output_type": "stream",
     "text": [
      "C:\\Users\\nkmeo\\.dgl\\cora_v2.zip: 100%|██████████████████████████████████████████████| 132k/132k [00:00<00:00, 2.70MB/s]\n"
     ]
    },
    {
     "name": "stdout",
     "output_type": "stream",
     "text": [
      "Extracting file to C:\\Users\\nkmeo\\.dgl\\cora_v2_d697a464\n",
      "Finished data loading and preprocessing.\n",
      "  NumNodes: 2708\n",
      "  NumEdges: 10556\n",
      "  NumFeats: 1433\n",
      "  NumClasses: 7\n",
      "  NumTrainingSamples: 140\n",
      "  NumValidationSamples: 500\n",
      "  NumTestSamples: 1000\n",
      "Done saving data into cached files.\n",
      "Downloading C:\\Users\\nkmeo\\.dgl\\citeseer.zip from https://data.dgl.ai/dataset/citeseer.zip...\n"
     ]
    },
    {
     "name": "stderr",
     "output_type": "stream",
     "text": [
      "C:\\Users\\nkmeo\\.dgl\\citeseer.zip: 100%|█████████████████████████████████████████████| 239k/239k [00:00<00:00, 2.86MB/s]\n"
     ]
    },
    {
     "name": "stdout",
     "output_type": "stream",
     "text": [
      "Extracting file to C:\\Users\\nkmeo\\.dgl\\citeseer_d6836239\n",
      "Finished data loading and preprocessing.\n",
      "  NumNodes: 3327\n",
      "  NumEdges: 9228\n",
      "  NumFeats: 3703\n",
      "  NumClasses: 6\n",
      "  NumTrainingSamples: 120\n",
      "  NumValidationSamples: 500\n",
      "  NumTestSamples: 1000\n",
      "Done saving data into cached files.\n"
     ]
    }
   ],
   "source": [
    "from dgl.data import CoraGraphDataset, CiteseerGraphDataset\n",
    "\n",
    "cora_dataset = CoraGraphDataset()\n",
    "cora_graph = cora_dataset[0]\n",
    "citeseer_dataset = CiteseerGraphDataset()\n",
    "citeseer_graph = citeseer_dataset[0]"
   ]
  },
  {
   "cell_type": "code",
   "execution_count": 4,
   "id": "b7aed80e",
   "metadata": {},
   "outputs": [
    {
     "name": "stdout",
     "output_type": "stream",
     "text": [
      "Collecting flask-cors\n",
      "  Downloading Flask_Cors-4.0.1-py2.py3-none-any.whl.metadata (5.5 kB)\n",
      "Collecting Flask>=0.9 (from flask-cors)\n",
      "  Downloading flask-3.0.3-py3-none-any.whl.metadata (3.2 kB)\n",
      "Collecting Werkzeug>=3.0.0 (from Flask>=0.9->flask-cors)\n",
      "  Downloading werkzeug-3.0.2-py3-none-any.whl.metadata (4.1 kB)\n",
      "Requirement already satisfied: Jinja2>=3.1.2 in c:\\users\\nkmeo\\appdata\\local\\programs\\python\\python310\\lib\\site-packages (from Flask>=0.9->flask-cors) (3.1.2)\n",
      "Collecting itsdangerous>=2.1.2 (from Flask>=0.9->flask-cors)\n",
      "  Downloading itsdangerous-2.2.0-py3-none-any.whl.metadata (1.9 kB)\n",
      "Requirement already satisfied: click>=8.1.3 in c:\\users\\nkmeo\\appdata\\local\\programs\\python\\python310\\lib\\site-packages (from Flask>=0.9->flask-cors) (8.1.3)\n",
      "Collecting blinker>=1.6.2 (from Flask>=0.9->flask-cors)\n",
      "  Downloading blinker-1.8.1-py3-none-any.whl.metadata (1.6 kB)\n",
      "Requirement already satisfied: colorama in c:\\users\\nkmeo\\appdata\\local\\programs\\python\\python310\\lib\\site-packages (from click>=8.1.3->Flask>=0.9->flask-cors) (0.4.5)\n",
      "Requirement already satisfied: MarkupSafe>=2.0 in c:\\users\\nkmeo\\appdata\\local\\programs\\python\\python310\\lib\\site-packages (from Jinja2>=3.1.2->Flask>=0.9->flask-cors) (2.1.1)\n",
      "Downloading Flask_Cors-4.0.1-py2.py3-none-any.whl (14 kB)\n",
      "Downloading flask-3.0.3-py3-none-any.whl (101 kB)\n",
      "   ---------------------------------------- 101.7/101.7 kB 2.9 MB/s eta 0:00:00\n",
      "Downloading blinker-1.8.1-py3-none-any.whl (9.5 kB)\n",
      "Downloading itsdangerous-2.2.0-py3-none-any.whl (16 kB)\n",
      "Downloading werkzeug-3.0.2-py3-none-any.whl (226 kB)\n",
      "   ---------------------------------------- 226.8/226.8 kB 2.3 MB/s eta 0:00:00\n",
      "Installing collected packages: Werkzeug, itsdangerous, blinker, Flask, flask-cors\n",
      "  Attempting uninstall: Werkzeug\n",
      "    Found existing installation: Werkzeug 2.3.3\n",
      "    Uninstalling Werkzeug-2.3.3:\n",
      "      Successfully uninstalled Werkzeug-2.3.3\n",
      "Successfully installed Flask-3.0.3 Werkzeug-3.0.2 blinker-1.8.1 flask-cors-4.0.1 itsdangerous-2.2.0\n",
      "Note: you may need to restart the kernel to use updated packages.\n"
     ]
    },
    {
     "name": "stderr",
     "output_type": "stream",
     "text": [
      "WARNING: Ignoring invalid distribution -atplotlib (c:\\users\\nkmeo\\appdata\\local\\programs\\python\\python310\\lib\\site-packages)\n",
      "WARNING: Ignoring invalid distribution -illow (c:\\users\\nkmeo\\appdata\\local\\programs\\python\\python310\\lib\\site-packages)\n",
      "WARNING: Ignoring invalid distribution -rotobuf (c:\\users\\nkmeo\\appdata\\local\\programs\\python\\python310\\lib\\site-packages)\n",
      "WARNING: Ignoring invalid distribution -atplotlib (c:\\users\\nkmeo\\appdata\\local\\programs\\python\\python310\\lib\\site-packages)\n",
      "WARNING: Ignoring invalid distribution -illow (c:\\users\\nkmeo\\appdata\\local\\programs\\python\\python310\\lib\\site-packages)\n",
      "WARNING: Ignoring invalid distribution -rotobuf (c:\\users\\nkmeo\\appdata\\local\\programs\\python\\python310\\lib\\site-packages)\n"
     ]
    }
   ],
   "source": [
    "pip install -U flask-cors"
   ]
  },
  {
   "cell_type": "code",
   "execution_count": 5,
   "id": "a1a9df76",
   "metadata": {},
   "outputs": [
    {
     "name": "stdout",
     "output_type": "stream",
     "text": [
      "Collecting Flask==2.0.3\n",
      "  Downloading Flask-2.0.3-py3-none-any.whl.metadata (3.8 kB)\n",
      "Requirement already satisfied: Werkzeug>=2.0 in c:\\users\\nkmeo\\appdata\\local\\programs\\python\\python310\\lib\\site-packages (from Flask==2.0.3) (3.0.2)\n",
      "Requirement already satisfied: Jinja2>=3.0 in c:\\users\\nkmeo\\appdata\\local\\programs\\python\\python310\\lib\\site-packages (from Flask==2.0.3) (3.1.2)\n",
      "Requirement already satisfied: itsdangerous>=2.0 in c:\\users\\nkmeo\\appdata\\local\\programs\\python\\python310\\lib\\site-packages (from Flask==2.0.3) (2.2.0)\n",
      "Requirement already satisfied: click>=7.1.2 in c:\\users\\nkmeo\\appdata\\local\\programs\\python\\python310\\lib\\site-packages (from Flask==2.0.3) (8.1.3)\n",
      "Requirement already satisfied: colorama in c:\\users\\nkmeo\\appdata\\local\\programs\\python\\python310\\lib\\site-packages (from click>=7.1.2->Flask==2.0.3) (0.4.5)\n",
      "Requirement already satisfied: MarkupSafe>=2.0 in c:\\users\\nkmeo\\appdata\\local\\programs\\python\\python310\\lib\\site-packages (from Jinja2>=3.0->Flask==2.0.3) (2.1.1)\n",
      "Downloading Flask-2.0.3-py3-none-any.whl (95 kB)\n",
      "   ---------------------------------------- 95.6/95.6 kB 1.9 MB/s eta 0:00:00\n",
      "Installing collected packages: Flask\n",
      "  Attempting uninstall: Flask\n",
      "    Found existing installation: Flask 3.0.3\n",
      "    Uninstalling Flask-3.0.3:\n",
      "      Successfully uninstalled Flask-3.0.3\n",
      "Successfully installed Flask-2.0.3\n",
      "Note: you may need to restart the kernel to use updated packages.\n"
     ]
    },
    {
     "name": "stderr",
     "output_type": "stream",
     "text": [
      "WARNING: Ignoring invalid distribution -atplotlib (c:\\users\\nkmeo\\appdata\\local\\programs\\python\\python310\\lib\\site-packages)\n",
      "WARNING: Ignoring invalid distribution -illow (c:\\users\\nkmeo\\appdata\\local\\programs\\python\\python310\\lib\\site-packages)\n",
      "WARNING: Ignoring invalid distribution -rotobuf (c:\\users\\nkmeo\\appdata\\local\\programs\\python\\python310\\lib\\site-packages)\n",
      "WARNING: Ignoring invalid distribution -atplotlib (c:\\users\\nkmeo\\appdata\\local\\programs\\python\\python310\\lib\\site-packages)\n",
      "WARNING: Ignoring invalid distribution -illow (c:\\users\\nkmeo\\appdata\\local\\programs\\python\\python310\\lib\\site-packages)\n",
      "WARNING: Ignoring invalid distribution -rotobuf (c:\\users\\nkmeo\\appdata\\local\\programs\\python\\python310\\lib\\site-packages)\n"
     ]
    }
   ],
   "source": [
    "pip install Flask==2.0.3"
   ]
  },
  {
   "cell_type": "code",
   "execution_count": 6,
   "id": "57050c79",
   "metadata": {},
   "outputs": [
    {
     "name": "stdout",
     "output_type": "stream",
     "text": [
      "Collecting gnnlens\n",
      "  Downloading gnnlens-0.1.0.tar.gz (1.8 MB)\n",
      "     ---------------------------------------- 1.8/1.8 MB 2.5 MB/s eta 0:00:00\n",
      "  Preparing metadata (setup.py): started\n",
      "  Preparing metadata (setup.py): finished with status 'done'\n",
      "Requirement already satisfied: click in c:\\users\\nkmeo\\appdata\\local\\programs\\python\\python310\\lib\\site-packages (from gnnlens) (8.1.3)\n",
      "Requirement already satisfied: flask>=1.0 in c:\\users\\nkmeo\\appdata\\local\\programs\\python\\python310\\lib\\site-packages (from gnnlens) (2.0.3)\n",
      "Requirement already satisfied: flask-cors>=3.0.9 in c:\\users\\nkmeo\\appdata\\local\\programs\\python\\python310\\lib\\site-packages (from gnnlens) (4.0.1)\n",
      "Collecting sqlalchemy>=1.1.14 (from gnnlens)\n",
      "  Downloading SQLAlchemy-2.0.29-cp310-cp310-win_amd64.whl.metadata (9.8 kB)\n",
      "Collecting flask_compress (from gnnlens)\n",
      "  Downloading Flask_Compress-1.15-py3-none-any.whl.metadata (8.4 kB)\n",
      "Requirement already satisfied: numpy in c:\\users\\nkmeo\\appdata\\local\\programs\\python\\python310\\lib\\site-packages (from gnnlens) (1.23.5)\n",
      "Requirement already satisfied: Werkzeug>=2.0 in c:\\users\\nkmeo\\appdata\\local\\programs\\python\\python310\\lib\\site-packages (from flask>=1.0->gnnlens) (3.0.2)\n",
      "Requirement already satisfied: Jinja2>=3.0 in c:\\users\\nkmeo\\appdata\\local\\programs\\python\\python310\\lib\\site-packages (from flask>=1.0->gnnlens) (3.1.2)\n",
      "Requirement already satisfied: itsdangerous>=2.0 in c:\\users\\nkmeo\\appdata\\local\\programs\\python\\python310\\lib\\site-packages (from flask>=1.0->gnnlens) (2.2.0)\n",
      "Requirement already satisfied: colorama in c:\\users\\nkmeo\\appdata\\local\\programs\\python\\python310\\lib\\site-packages (from click->gnnlens) (0.4.5)\n",
      "Requirement already satisfied: typing-extensions>=4.6.0 in c:\\users\\nkmeo\\appdata\\local\\programs\\python\\python310\\lib\\site-packages (from sqlalchemy>=1.1.14->gnnlens) (4.10.0)\n",
      "Collecting greenlet!=0.4.17 (from sqlalchemy>=1.1.14->gnnlens)\n",
      "  Downloading greenlet-3.0.3-cp310-cp310-win_amd64.whl.metadata (3.9 kB)\n",
      "Collecting brotli (from flask_compress->gnnlens)\n",
      "  Downloading Brotli-1.1.0-cp310-cp310-win_amd64.whl.metadata (5.6 kB)\n",
      "Collecting zstandard (from flask_compress->gnnlens)\n",
      "  Downloading zstandard-0.22.0-cp310-cp310-win_amd64.whl.metadata (3.0 kB)\n",
      "Requirement already satisfied: MarkupSafe>=2.0 in c:\\users\\nkmeo\\appdata\\local\\programs\\python\\python310\\lib\\site-packages (from Jinja2>=3.0->flask>=1.0->gnnlens) (2.1.1)\n",
      "Downloading SQLAlchemy-2.0.29-cp310-cp310-win_amd64.whl (2.1 MB)\n",
      "   ---------------------------------------- 2.1/2.1 MB 2.6 MB/s eta 0:00:00\n",
      "Downloading Flask_Compress-1.15-py3-none-any.whl (8.6 kB)\n",
      "Downloading greenlet-3.0.3-cp310-cp310-win_amd64.whl (292 kB)\n",
      "   ---------------------------------------- 292.3/292.3 kB 2.6 MB/s eta 0:00:00\n",
      "Downloading Brotli-1.1.0-cp310-cp310-win_amd64.whl (357 kB)\n",
      "   ---------------------------------------- 357.3/357.3 kB 2.8 MB/s eta 0:00:00\n",
      "Downloading zstandard-0.22.0-cp310-cp310-win_amd64.whl (511 kB)\n",
      "   ---------------------------------------- 511.6/511.6 kB 2.5 MB/s eta 0:00:00\n",
      "Building wheels for collected packages: gnnlens\n",
      "  Building wheel for gnnlens (setup.py): started\n",
      "  Building wheel for gnnlens (setup.py): finished with status 'done'\n",
      "  Created wheel for gnnlens: filename=gnnlens-0.1.0-py3-none-any.whl size=1798266 sha256=8d4a1e1896bdfb946a3d782cd44c3f8ee2aff2344bcca06a2ae965acd8a32cc8\n",
      "  Stored in directory: c:\\users\\nkmeo\\appdata\\local\\pip\\cache\\wheels\\89\\d3\\3e\\28eefc470a519bccc3f11c50accfa69d63d0526b5f3a0d8345\n",
      "Successfully built gnnlens\n",
      "Installing collected packages: brotli, zstandard, greenlet, sqlalchemy, flask_compress, gnnlens\n",
      "Successfully installed brotli-1.1.0 flask_compress-1.15 gnnlens-0.1.0 greenlet-3.0.3 sqlalchemy-2.0.29 zstandard-0.22.0\n",
      "Note: you may need to restart the kernel to use updated packages.\n"
     ]
    },
    {
     "name": "stderr",
     "output_type": "stream",
     "text": [
      "WARNING: Ignoring invalid distribution -atplotlib (c:\\users\\nkmeo\\appdata\\local\\programs\\python\\python310\\lib\\site-packages)\n",
      "WARNING: Ignoring invalid distribution -illow (c:\\users\\nkmeo\\appdata\\local\\programs\\python\\python310\\lib\\site-packages)\n",
      "WARNING: Ignoring invalid distribution -rotobuf (c:\\users\\nkmeo\\appdata\\local\\programs\\python\\python310\\lib\\site-packages)\n",
      "WARNING: Ignoring invalid distribution -atplotlib (c:\\users\\nkmeo\\appdata\\local\\programs\\python\\python310\\lib\\site-packages)\n",
      "WARNING: Ignoring invalid distribution -illow (c:\\users\\nkmeo\\appdata\\local\\programs\\python\\python310\\lib\\site-packages)\n",
      "WARNING: Ignoring invalid distribution -rotobuf (c:\\users\\nkmeo\\appdata\\local\\programs\\python\\python310\\lib\\site-packages)\n"
     ]
    }
   ],
   "source": [
    "pip install gnnlens"
   ]
  },
  {
   "cell_type": "code",
   "execution_count": 16,
   "id": "ba474682",
   "metadata": {},
   "outputs": [
    {
     "data": {
      "text/plain": [
       "Graph(num_nodes=3327, num_edges=9228,\n",
       "      ndata_schemes={'train_mask': Scheme(shape=(), dtype=torch.bool), 'label': Scheme(shape=(), dtype=torch.int64), 'val_mask': Scheme(shape=(), dtype=torch.bool), 'test_mask': Scheme(shape=(), dtype=torch.bool), 'feat': Scheme(shape=(3703,), dtype=torch.float32)}\n",
       "      edata_schemes={})"
      ]
     },
     "execution_count": 16,
     "metadata": {},
     "output_type": "execute_result"
    }
   ],
   "source": [
    "citeseer_graph"
   ]
  },
  {
   "cell_type": "code",
   "execution_count": 1,
   "id": "98f1b9c1",
   "metadata": {},
   "outputs": [],
   "source": [
    "from dgl.data.utils import load_graphs\n",
    "G, g2 = load_graphs(\"data_vis (1).bin\")"
   ]
  },
  {
   "cell_type": "code",
   "execution_count": 2,
   "id": "4483d9a7",
   "metadata": {},
   "outputs": [],
   "source": [
    "G = G[0]"
   ]
  },
  {
   "cell_type": "code",
   "execution_count": 3,
   "id": "e9ded020",
   "metadata": {},
   "outputs": [
    {
     "data": {
      "text/plain": [
       "tensor([0, 0, 0,  ..., 0, 0, 0])"
      ]
     },
     "execution_count": 3,
     "metadata": {},
     "output_type": "execute_result"
    }
   ],
   "source": [
    "G.ndata['_TYPE']"
   ]
  },
  {
   "cell_type": "code",
   "execution_count": 10,
   "id": "bc5679ee",
   "metadata": {},
   "outputs": [],
   "source": [
    "writer.add_graph?"
   ]
  },
  {
   "cell_type": "code",
   "execution_count": 5,
   "id": "021aff69",
   "metadata": {},
   "outputs": [],
   "source": [
    "from gnnlens import Writer\n",
    "\n",
    "# Specify the path to create a new directory for dumping data files.\n",
    "writer = Writer('aaa')\n",
    "writer.add_graph(name='result_graphhhh', graph=G, nlabels=G.ndata['_TYPE'], num_nlabel_types=1)\n",
    "# Finish dumping\n",
    "writer.close()"
   ]
  },
  {
   "cell_type": "code",
   "execution_count": 9,
   "id": "c087dbb5",
   "metadata": {},
   "outputs": [
    {
     "data": {
      "text/plain": [
       "tensor([0, 1, 2, 3, 4, 5, 6])"
      ]
     },
     "execution_count": 9,
     "metadata": {},
     "output_type": "execute_result"
    }
   ],
   "source": [
    "graph.ndata['label'].unique()"
   ]
  },
  {
   "cell_type": "code",
   "execution_count": 7,
   "id": "c0c25e78",
   "metadata": {},
   "outputs": [
    {
     "data": {
      "text/plain": [
       "7"
      ]
     },
     "execution_count": 7,
     "metadata": {},
     "output_type": "execute_result"
    }
   ],
   "source": [
    "num_classes"
   ]
  },
  {
   "cell_type": "code",
   "execution_count": null,
   "id": "5c9274bc",
   "metadata": {},
   "outputs": [],
   "source": [
    "!gnnlens --logdir aaa"
   ]
  },
  {
   "cell_type": "code",
   "execution_count": 70,
   "id": "10796c21",
   "metadata": {},
   "outputs": [
    {
     "name": "stdout",
     "output_type": "stream",
     "text": [
      "0.1.0\n"
     ]
    }
   ],
   "source": [
    "import gnnlens\n",
    "\n",
    "print(gnnlens.__version__)"
   ]
  },
  {
   "cell_type": "code",
   "execution_count": 10,
   "id": "a9febb9d",
   "metadata": {},
   "outputs": [
    {
     "ename": "SyntaxError",
     "evalue": "invalid syntax (3909777627.py, line 1)",
     "output_type": "error",
     "traceback": [
      "\u001b[1;36m  Cell \u001b[1;32mIn [10], line 1\u001b[1;36m\u001b[0m\n\u001b[1;33m    git clone https://github.com/dmlc/GNNLens2.git\u001b[0m\n\u001b[1;37m        ^\u001b[0m\n\u001b[1;31mSyntaxError\u001b[0m\u001b[1;31m:\u001b[0m invalid syntax\n"
     ]
    }
   ],
   "source": [
    "git clone https://github.com/dmlc/GNNLens2.git\n",
    "cd GNNLens2/python\n",
    "python setup.py install"
   ]
  }
 ],
 "metadata": {
  "kernelspec": {
   "display_name": "Python 3 (ipykernel)",
   "language": "python",
   "name": "python3"
  },
  "language_info": {
   "codemirror_mode": {
    "name": "ipython",
    "version": 3
   },
   "file_extension": ".py",
   "mimetype": "text/x-python",
   "name": "python",
   "nbconvert_exporter": "python",
   "pygments_lexer": "ipython3",
   "version": "3.10.8"
  }
 },
 "nbformat": 4,
 "nbformat_minor": 5
}
